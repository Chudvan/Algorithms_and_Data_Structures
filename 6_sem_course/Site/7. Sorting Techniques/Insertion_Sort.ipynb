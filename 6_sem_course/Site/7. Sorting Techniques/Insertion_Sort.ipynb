{
 "cells": [
  {
   "cell_type": "code",
   "execution_count": 9,
   "metadata": {},
   "outputs": [],
   "source": [
    "def Insertion_Sort(a):\n",
    "    for i in range(1, len(a)):\n",
    "        value = a[i]\n",
    "        tmp = i\n",
    "        while tmp > 0 and a[tmp - 1] > value:\n",
    "            print('(', a[tmp - 1], ',', value, ')', sep='')\n",
    "            a[tmp] = a[tmp - 1]\n",
    "            tmp -= 1\n",
    "        a[tmp] = value\n",
    "        print(a)"
   ]
  },
  {
   "cell_type": "code",
   "execution_count": 10,
   "metadata": {},
   "outputs": [
    {
     "name": "stdout",
     "output_type": "stream",
     "text": [
      "[14, 33, 27, 10, 35, 19, 42, 44]\n",
      "(33,27)\n",
      "[14, 27, 33, 10, 35, 19, 42, 44]\n",
      "(33,10)\n",
      "(27,10)\n",
      "(14,10)\n",
      "[10, 14, 27, 33, 35, 19, 42, 44]\n",
      "[10, 14, 27, 33, 35, 19, 42, 44]\n",
      "(35,19)\n",
      "(33,19)\n",
      "(27,19)\n",
      "[10, 14, 19, 27, 33, 35, 42, 44]\n",
      "[10, 14, 19, 27, 33, 35, 42, 44]\n",
      "[10, 14, 19, 27, 33, 35, 42, 44]\n"
     ]
    },
    {
     "data": {
      "text/plain": [
       "[10, 14, 19, 27, 33, 35, 42, 44]"
      ]
     },
     "execution_count": 10,
     "metadata": {},
     "output_type": "execute_result"
    }
   ],
   "source": [
    "a = [14, 33, 27, 10, 35, 19, 42, 44]\n",
    "Insertion_Sort(a)\n",
    "a"
   ]
  },
  {
   "cell_type": "code",
   "execution_count": 11,
   "metadata": {},
   "outputs": [
    {
     "name": "stdout",
     "output_type": "stream",
     "text": [
      "[10, 14, 19, 27, 33, 35, 42, 44]\n",
      "[10, 14, 19, 27, 33, 35, 42, 44]\n",
      "[10, 14, 19, 27, 33, 35, 42, 44]\n",
      "[10, 14, 19, 27, 33, 35, 42, 44]\n",
      "[10, 14, 19, 27, 33, 35, 42, 44]\n",
      "[10, 14, 19, 27, 33, 35, 42, 44]\n",
      "[10, 14, 19, 27, 33, 35, 42, 44]\n"
     ]
    },
    {
     "data": {
      "text/plain": [
       "[10, 14, 19, 27, 33, 35, 42, 44]"
      ]
     },
     "execution_count": 11,
     "metadata": {},
     "output_type": "execute_result"
    }
   ],
   "source": [
    "Insertion_Sort(a)\n",
    "a"
   ]
  },
  {
   "cell_type": "code",
   "execution_count": 12,
   "metadata": {},
   "outputs": [],
   "source": [
    "def Insertion_Sort_2(a):\n",
    "    for i in range(1, len(a)):\n",
    "        value = a[i]\n",
    "        tmp = i\n",
    "        while tmp > 0 and a[tmp - 1] > value:\n",
    "            a[tmp] = a[tmp - 1]\n",
    "            tmp -= 1\n",
    "        a[tmp] = value"
   ]
  },
  {
   "cell_type": "code",
   "execution_count": 13,
   "metadata": {},
   "outputs": [
    {
     "data": {
      "text/plain": [
       "[10, 14, 19, 27, 33, 35, 42, 44]"
      ]
     },
     "execution_count": 13,
     "metadata": {},
     "output_type": "execute_result"
    }
   ],
   "source": [
    "a = [14, 33, 27, 10, 35, 19, 42, 44]\n",
    "Insertion_Sort_2(a)\n",
    "a"
   ]
  },
  {
   "cell_type": "code",
   "execution_count": null,
   "metadata": {},
   "outputs": [],
   "source": []
  }
 ],
 "metadata": {
  "kernelspec": {
   "display_name": "Python 3",
   "language": "python",
   "name": "python3"
  },
  "language_info": {
   "codemirror_mode": {
    "name": "ipython",
    "version": 3
   },
   "file_extension": ".py",
   "mimetype": "text/x-python",
   "name": "python",
   "nbconvert_exporter": "python",
   "pygments_lexer": "ipython3",
   "version": "3.7.3"
  }
 },
 "nbformat": 4,
 "nbformat_minor": 2
}
