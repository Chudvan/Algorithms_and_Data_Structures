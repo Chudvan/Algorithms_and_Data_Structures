{
 "cells": [
  {
   "cell_type": "code",
   "execution_count": 15,
   "metadata": {},
   "outputs": [],
   "source": [
    "def Selection_Sort(a):\n",
    "    for i in range(len(a) - 1):\n",
    "        j_min = i\n",
    "        for j in range(i + 1, len(a)):\n",
    "            print('inner loop')\n",
    "            if a[j] < a[j_min]:\n",
    "                print('(', a[j], ',', a[j_min], ')', sep='')\n",
    "                j_min = j\n",
    "        if j_min != i:\n",
    "            a[j_min], a[i] = a[i], a[j_min]\n",
    "        print(a)"
   ]
  },
  {
   "cell_type": "code",
   "execution_count": 16,
   "metadata": {},
   "outputs": [
    {
     "name": "stdout",
     "output_type": "stream",
     "text": [
      "inner loop\n",
      "inner loop\n",
      "inner loop\n",
      "(10,14)\n",
      "inner loop\n",
      "inner loop\n",
      "inner loop\n",
      "inner loop\n",
      "[10, 33, 27, 14, 35, 19, 42, 44]\n",
      "inner loop\n",
      "(27,33)\n",
      "inner loop\n",
      "(14,27)\n",
      "inner loop\n",
      "inner loop\n",
      "inner loop\n",
      "inner loop\n",
      "[10, 14, 27, 33, 35, 19, 42, 44]\n",
      "inner loop\n",
      "inner loop\n",
      "inner loop\n",
      "(19,27)\n",
      "inner loop\n",
      "inner loop\n",
      "[10, 14, 19, 33, 35, 27, 42, 44]\n",
      "inner loop\n",
      "inner loop\n",
      "(27,33)\n",
      "inner loop\n",
      "inner loop\n",
      "[10, 14, 19, 27, 35, 33, 42, 44]\n",
      "inner loop\n",
      "(33,35)\n",
      "inner loop\n",
      "inner loop\n",
      "[10, 14, 19, 27, 33, 35, 42, 44]\n",
      "inner loop\n",
      "inner loop\n",
      "[10, 14, 19, 27, 33, 35, 42, 44]\n",
      "inner loop\n",
      "[10, 14, 19, 27, 33, 35, 42, 44]\n"
     ]
    },
    {
     "data": {
      "text/plain": [
       "[10, 14, 19, 27, 33, 35, 42, 44]"
      ]
     },
     "execution_count": 16,
     "metadata": {},
     "output_type": "execute_result"
    }
   ],
   "source": [
    "a = [14, 33, 27, 10, 35, 19, 42, 44]\n",
    "Selection_Sort(a)\n",
    "a"
   ]
  },
  {
   "cell_type": "code",
   "execution_count": 17,
   "metadata": {},
   "outputs": [
    {
     "name": "stdout",
     "output_type": "stream",
     "text": [
      "inner loop\n",
      "inner loop\n",
      "inner loop\n",
      "inner loop\n",
      "inner loop\n",
      "inner loop\n",
      "inner loop\n",
      "[10, 14, 19, 27, 33, 35, 42, 44]\n",
      "inner loop\n",
      "inner loop\n",
      "inner loop\n",
      "inner loop\n",
      "inner loop\n",
      "inner loop\n",
      "[10, 14, 19, 27, 33, 35, 42, 44]\n",
      "inner loop\n",
      "inner loop\n",
      "inner loop\n",
      "inner loop\n",
      "inner loop\n",
      "[10, 14, 19, 27, 33, 35, 42, 44]\n",
      "inner loop\n",
      "inner loop\n",
      "inner loop\n",
      "inner loop\n",
      "[10, 14, 19, 27, 33, 35, 42, 44]\n",
      "inner loop\n",
      "inner loop\n",
      "inner loop\n",
      "[10, 14, 19, 27, 33, 35, 42, 44]\n",
      "inner loop\n",
      "inner loop\n",
      "[10, 14, 19, 27, 33, 35, 42, 44]\n",
      "inner loop\n",
      "[10, 14, 19, 27, 33, 35, 42, 44]\n"
     ]
    },
    {
     "data": {
      "text/plain": [
       "[10, 14, 19, 27, 33, 35, 42, 44]"
      ]
     },
     "execution_count": 17,
     "metadata": {},
     "output_type": "execute_result"
    }
   ],
   "source": [
    "Selection_Sort(a)\n",
    "a"
   ]
  },
  {
   "cell_type": "code",
   "execution_count": 18,
   "metadata": {},
   "outputs": [],
   "source": [
    "def Selection_Sort_2(a):\n",
    "    for i in range(len(a) - 1):\n",
    "        j_min = i\n",
    "        for j in range(i + 1, len(a)):\n",
    "            if a[j] < a[j_min]:\n",
    "                j_min = j\n",
    "        if j_min != i:\n",
    "            a[j_min], a[i] = a[i], a[j_min]"
   ]
  },
  {
   "cell_type": "code",
   "execution_count": 19,
   "metadata": {},
   "outputs": [
    {
     "data": {
      "text/plain": [
       "[10, 14, 19, 27, 33, 35, 42, 44]"
      ]
     },
     "execution_count": 19,
     "metadata": {},
     "output_type": "execute_result"
    }
   ],
   "source": [
    "a = [14, 33, 27, 10, 35, 19, 42, 44]\n",
    "Selection_Sort_2(a)\n",
    "a"
   ]
  },
  {
   "cell_type": "code",
   "execution_count": null,
   "metadata": {},
   "outputs": [],
   "source": []
  }
 ],
 "metadata": {
  "kernelspec": {
   "display_name": "Python 3",
   "language": "python",
   "name": "python3"
  },
  "language_info": {
   "codemirror_mode": {
    "name": "ipython",
    "version": 3
   },
   "file_extension": ".py",
   "mimetype": "text/x-python",
   "name": "python",
   "nbconvert_exporter": "python",
   "pygments_lexer": "ipython3",
   "version": "3.7.3"
  }
 },
 "nbformat": 4,
 "nbformat_minor": 2
}
