{
 "cells": [
  {
   "cell_type": "code",
   "execution_count": 20,
   "metadata": {},
   "outputs": [],
   "source": [
    "def BubbleSort(a):\n",
    "    for k in range(1, len(a)):\n",
    "        for i in range(len(a) - k):\n",
    "            print(\"(\", a[i], \",\", a[i + 1], \")\", sep='')\n",
    "            if a[i] > a[i + 1]:\n",
    "                a[i], a[i + 1] = a[i + 1], a[i]\n",
    "        print(a)"
   ]
  },
  {
   "cell_type": "code",
   "execution_count": 21,
   "metadata": {},
   "outputs": [
    {
     "name": "stdout",
     "output_type": "stream",
     "text": [
      "(14,33)\n",
      "(33,27)\n",
      "(33,35)\n",
      "(35,10)\n",
      "[14, 27, 33, 10, 35]\n",
      "(14,27)\n",
      "(27,33)\n",
      "(33,10)\n",
      "[14, 27, 10, 33, 35]\n",
      "(14,27)\n",
      "(27,10)\n",
      "[14, 10, 27, 33, 35]\n",
      "(14,10)\n",
      "[10, 14, 27, 33, 35]\n"
     ]
    },
    {
     "data": {
      "text/plain": [
       "[10, 14, 27, 33, 35]"
      ]
     },
     "execution_count": 21,
     "metadata": {},
     "output_type": "execute_result"
    }
   ],
   "source": [
    "a = [14, 33, 27, 35, 10]\n",
    "BubbleSort(a)\n",
    "a"
   ]
  },
  {
   "cell_type": "code",
   "execution_count": 22,
   "metadata": {},
   "outputs": [
    {
     "name": "stdout",
     "output_type": "stream",
     "text": [
      "(10,14)\n",
      "(14,27)\n",
      "(27,33)\n",
      "(33,35)\n",
      "[10, 14, 27, 33, 35]\n",
      "(10,14)\n",
      "(14,27)\n",
      "(27,33)\n",
      "[10, 14, 27, 33, 35]\n",
      "(10,14)\n",
      "(14,27)\n",
      "[10, 14, 27, 33, 35]\n",
      "(10,14)\n",
      "[10, 14, 27, 33, 35]\n"
     ]
    },
    {
     "data": {
      "text/plain": [
       "[10, 14, 27, 33, 35]"
      ]
     },
     "execution_count": 22,
     "metadata": {},
     "output_type": "execute_result"
    }
   ],
   "source": [
    "BubbleSort(a)\n",
    "a"
   ]
  },
  {
   "cell_type": "code",
   "execution_count": 34,
   "metadata": {},
   "outputs": [],
   "source": [
    "def BubbleSort_2(a):\n",
    "    for k in range(1, len(a)):\n",
    "        flag = False\n",
    "        for i in range(len(a) - k):\n",
    "            print(\"(\", a[i], \",\", a[i + 1], \")\", sep='')\n",
    "            if a[i] > a[i + 1]:\n",
    "                a[i], a[i + 1] = a[i + 1], a[i]\n",
    "                flag = True\n",
    "        print(a)\n",
    "        if flag is not True:\n",
    "            break"
   ]
  },
  {
   "cell_type": "code",
   "execution_count": 35,
   "metadata": {},
   "outputs": [
    {
     "name": "stdout",
     "output_type": "stream",
     "text": [
      "(14,33)\n",
      "(33,27)\n",
      "(33,35)\n",
      "(35,10)\n",
      "[14, 27, 33, 10, 35]\n",
      "(14,27)\n",
      "(27,33)\n",
      "(33,10)\n",
      "[14, 27, 10, 33, 35]\n",
      "(14,27)\n",
      "(27,10)\n",
      "[14, 10, 27, 33, 35]\n",
      "(14,10)\n",
      "[10, 14, 27, 33, 35]\n"
     ]
    },
    {
     "data": {
      "text/plain": [
       "[10, 14, 27, 33, 35]"
      ]
     },
     "execution_count": 35,
     "metadata": {},
     "output_type": "execute_result"
    }
   ],
   "source": [
    "a = [14, 33, 27, 35, 10]\n",
    "BubbleSort_2(a)\n",
    "a"
   ]
  },
  {
   "cell_type": "code",
   "execution_count": 36,
   "metadata": {},
   "outputs": [
    {
     "name": "stdout",
     "output_type": "stream",
     "text": [
      "(10,14)\n",
      "(14,27)\n",
      "(27,33)\n",
      "(33,35)\n",
      "[10, 14, 27, 33, 35]\n"
     ]
    },
    {
     "data": {
      "text/plain": [
       "[10, 14, 27, 33, 35]"
      ]
     },
     "execution_count": 36,
     "metadata": {},
     "output_type": "execute_result"
    }
   ],
   "source": [
    "BubbleSort_2(a)\n",
    "a"
   ]
  },
  {
   "cell_type": "code",
   "execution_count": 50,
   "metadata": {},
   "outputs": [],
   "source": [
    "def BubbleSort_3(a):\n",
    "    for k in range(1, len(a)):\n",
    "        flag = False\n",
    "        for i in range(len(a) - k):\n",
    "            if a[i] > a[i + 1]:\n",
    "                flag = True\n",
    "                a[i], a[i + 1] = a[i + 1], a[i]\n",
    "        if flag is not True:\n",
    "            break"
   ]
  },
  {
   "cell_type": "code",
   "execution_count": 51,
   "metadata": {},
   "outputs": [
    {
     "data": {
      "text/plain": [
       "[10, 14, 27, 33, 35]"
      ]
     },
     "execution_count": 51,
     "metadata": {},
     "output_type": "execute_result"
    }
   ],
   "source": [
    "a = [14, 33, 27, 35, 10]\n",
    "BubbleSort_3(a)\n",
    "a"
   ]
  },
  {
   "cell_type": "code",
   "execution_count": 52,
   "metadata": {},
   "outputs": [
    {
     "data": {
      "text/plain": [
       "[10, 14, 27, 33, 35]"
      ]
     },
     "execution_count": 52,
     "metadata": {},
     "output_type": "execute_result"
    }
   ],
   "source": [
    "BubbleSort_3(a)\n",
    "a"
   ]
  },
  {
   "cell_type": "code",
   "execution_count": null,
   "metadata": {},
   "outputs": [],
   "source": []
  }
 ],
 "metadata": {
  "kernelspec": {
   "display_name": "Python 3",
   "language": "python",
   "name": "python3"
  },
  "language_info": {
   "codemirror_mode": {
    "name": "ipython",
    "version": 3
   },
   "file_extension": ".py",
   "mimetype": "text/x-python",
   "name": "python",
   "nbconvert_exporter": "python",
   "pygments_lexer": "ipython3",
   "version": "3.7.3"
  }
 },
 "nbformat": 4,
 "nbformat_minor": 2
}
