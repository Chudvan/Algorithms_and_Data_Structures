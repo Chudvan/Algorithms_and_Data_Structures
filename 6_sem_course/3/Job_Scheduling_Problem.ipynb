{
 "cells": [
  {
   "cell_type": "code",
   "execution_count": 65,
   "metadata": {},
   "outputs": [
    {
     "data": {
      "text/plain": [
       "[(2, 10), (4, 20), (1, 5), (3, 25), (2, 15)]"
      ]
     },
     "execution_count": 65,
     "metadata": {},
     "output_type": "execute_result"
    }
   ],
   "source": [
    "n = 5\n",
    "deadline_1 = 2\n",
    "amount_1 = 10\n",
    "task_1 = (deadline_1, amount_1)\n",
    "task_2 = (4, 20)\n",
    "task_3 = (1, 5)\n",
    "task_4 = (3, 25)\n",
    "task_5 = (2, 15)\n",
    "tasks = [task_1, task_2, task_3, task_4, task_5]\n",
    "tasks"
   ]
  },
  {
   "cell_type": "code",
   "execution_count": 58,
   "metadata": {},
   "outputs": [],
   "source": [
    "n = 5\n",
    "tasks = [(3, 100), (3, 200), (3, 50), (3, 150), (3, 130)]"
   ]
  },
  {
   "cell_type": "code",
   "execution_count": 66,
   "metadata": {},
   "outputs": [
    {
     "data": {
      "text/plain": [
       "[(3, 25), (4, 20), (2, 15), (2, 10), (1, 5)]"
      ]
     },
     "execution_count": 66,
     "metadata": {},
     "output_type": "execute_result"
    }
   ],
   "source": [
    "tasks.sort(key=lambda task: task[1], reverse=True)\n",
    "tasks"
   ]
  },
  {
   "cell_type": "code",
   "execution_count": 67,
   "metadata": {},
   "outputs": [
    {
     "data": {
      "text/plain": [
       "[0, 0, 0, 0, 0]"
      ]
     },
     "execution_count": 67,
     "metadata": {},
     "output_type": "execute_result"
    }
   ],
   "source": [
    "time_table = [0] * n\n",
    "time_table"
   ]
  },
  {
   "cell_type": "code",
   "execution_count": 68,
   "metadata": {},
   "outputs": [],
   "source": [
    "ans = 0"
   ]
  },
  {
   "cell_type": "code",
   "execution_count": 69,
   "metadata": {},
   "outputs": [],
   "source": [
    "def find_last_gap(a):\n",
    "    for i in range(len(a) - 1, -1, -1):\n",
    "        if a[i] == 0:\n",
    "            return i        "
   ]
  },
  {
   "cell_type": "code",
   "execution_count": 70,
   "metadata": {},
   "outputs": [
    {
     "name": "stdout",
     "output_type": "stream",
     "text": [
      "(3, 25) [0, 0, (3, 25), 0, 0]\n",
      "(4, 20) [0, 0, (3, 25), (4, 20), 0]\n",
      "(2, 15) [0, (2, 15), (3, 25), (4, 20), 0]\n",
      "(2, 10) [(2, 10), (2, 15), (3, 25), (4, 20), 0]\n",
      "(1, 5) [(2, 10), (2, 15), (3, 25), (4, 20), (1, 5)]\n"
     ]
    }
   ],
   "source": [
    "for task in tasks:\n",
    "    tmp = find_last_gap(time_table[:task[0]])\n",
    "    if tmp is None:\n",
    "        tmp = task[0] + find_last_gap(time_table[task[0]:])\n",
    "    else:\n",
    "        ans += task[1]\n",
    "    time_table[tmp] = task\n",
    "    print(task, time_table)"
   ]
  },
  {
   "cell_type": "code",
   "execution_count": 71,
   "metadata": {},
   "outputs": [
    {
     "data": {
      "text/plain": [
       "70"
      ]
     },
     "execution_count": 71,
     "metadata": {},
     "output_type": "execute_result"
    }
   ],
   "source": [
    "ans"
   ]
  },
  {
   "cell_type": "code",
   "execution_count": null,
   "metadata": {},
   "outputs": [],
   "source": []
  }
 ],
 "metadata": {
  "kernelspec": {
   "display_name": "Python 3",
   "language": "python",
   "name": "python3"
  },
  "language_info": {
   "codemirror_mode": {
    "name": "ipython",
    "version": 3
   },
   "file_extension": ".py",
   "mimetype": "text/x-python",
   "name": "python",
   "nbconvert_exporter": "python",
   "pygments_lexer": "ipython3",
   "version": "3.8.6"
  }
 },
 "nbformat": 4,
 "nbformat_minor": 2
}
