{
 "cells": [
  {
   "cell_type": "code",
   "execution_count": 49,
   "metadata": {},
   "outputs": [],
   "source": [
    "class Node:\n",
    "    def __init__(self, val, next_):\n",
    "        self.val = val\n",
    "        self.next_ = next_"
   ]
  },
  {
   "cell_type": "code",
   "execution_count": 50,
   "metadata": {},
   "outputs": [
    {
     "name": "stdout",
     "output_type": "stream",
     "text": [
      "0\n",
      "1\n",
      "2\n",
      "3\n",
      "4\n",
      "5\n",
      "6\n",
      "7\n",
      "8\n",
      "9\n"
     ]
    }
   ],
   "source": [
    "_list = []\n",
    "n = 10\n",
    "for i in range(n):\n",
    "    print(i)\n",
    "    _list.append(Node(i, None))\n",
    "    if i > 0:\n",
    "        _list[i - 1].next_ = _list[i]"
   ]
  },
  {
   "cell_type": "code",
   "execution_count": 51,
   "metadata": {},
   "outputs": [
    {
     "name": "stdout",
     "output_type": "stream",
     "text": [
      "0 1\n",
      "1 2\n",
      "2 3\n",
      "3 4\n",
      "4 5\n",
      "5 6\n",
      "6 7\n",
      "7 8\n",
      "8 9\n",
      "9 None\n"
     ]
    }
   ],
   "source": [
    "curx = _list[0]\n",
    "while curx != None:\n",
    "    if curx.next_ != None:\n",
    "        print(curx.val, curx.next_.val)\n",
    "    else:\n",
    "        print(curx.val, curx.next_)\n",
    "    curx = curx.next_"
   ]
  },
  {
   "cell_type": "code",
   "execution_count": 52,
   "metadata": {},
   "outputs": [],
   "source": [
    "curx = _list[0]\n",
    "curxBefore = None\n",
    "curxNext = None\n",
    "while curx != None:\n",
    "    curxNext = curx.next_\n",
    "    curx.next_ = curxBefore\n",
    "    curxBefore = curx\n",
    "    curx = curxNext"
   ]
  },
  {
   "cell_type": "code",
   "execution_count": 53,
   "metadata": {},
   "outputs": [
    {
     "name": "stdout",
     "output_type": "stream",
     "text": [
      "9 8\n",
      "8 7\n",
      "7 6\n",
      "6 5\n",
      "5 4\n",
      "4 3\n",
      "3 2\n",
      "2 1\n",
      "1 0\n",
      "0 None\n"
     ]
    }
   ],
   "source": [
    "curx = _list[n - 1]\n",
    "while curx != None:\n",
    "    if curx.next_ != None:\n",
    "        print(curx.val, curx.next_.val)\n",
    "    else:\n",
    "        print(curx.val, curx.next_)\n",
    "    curx = curx.next_"
   ]
  },
  {
   "cell_type": "code",
   "execution_count": 54,
   "metadata": {},
   "outputs": [
    {
     "data": {
      "text/plain": [
       "9"
      ]
     },
     "execution_count": 54,
     "metadata": {},
     "output_type": "execute_result"
    }
   ],
   "source": [
    "curxBefore.val"
   ]
  },
  {
   "cell_type": "code",
   "execution_count": null,
   "metadata": {},
   "outputs": [],
   "source": []
  }
 ],
 "metadata": {
  "kernelspec": {
   "display_name": "Python 3",
   "language": "python",
   "name": "python3"
  },
  "language_info": {
   "codemirror_mode": {
    "name": "ipython",
    "version": 3
   },
   "file_extension": ".py",
   "mimetype": "text/x-python",
   "name": "python",
   "nbconvert_exporter": "python",
   "pygments_lexer": "ipython3",
   "version": "3.7.3"
  }
 },
 "nbformat": 4,
 "nbformat_minor": 2
}
